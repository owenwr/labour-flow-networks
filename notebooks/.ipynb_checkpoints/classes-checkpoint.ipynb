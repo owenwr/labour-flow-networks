{
 "cells": [
  {
   "cell_type": "code",
   "execution_count": 1,
   "metadata": {
    "collapsed": false
   },
   "outputs": [],
   "source": [
    "import os\n",
    "project_root = os.pardir\n",
    "import sys\n",
    "src_dir = os.path.join(project_root, 'src')\n",
    "sys.path.append(src_dir)\n",
    "\n",
    "import updated_deg_flows as udf\n",
    "from data import make_dataset_classes as dat\n",
    "import matplotlib.pyplot as plt\n",
    "import numpy as np\n",
    "%matplotlib inline"
   ]
  },
  {
   "cell_type": "code",
   "execution_count": 2,
   "metadata": {
    "collapsed": false
   },
   "outputs": [
    {
     "name": "stdout",
     "output_type": "stream",
     "text": [
      "Warning: Currently Must Use year=1997 or 1998\n"
     ]
    }
   ],
   "source": [
    "lfn = dat.LFN('1996-1997', show_info=False)\n",
    "A, B = udf.UpdatedDegreeFlowMatrix(lfn, year=1997)\n",
    "bin_edges = udf.CreateLogBins(b=0.5, upper_limit=A.shape[0])\n"
   ]
  },
  {
   "cell_type": "code",
   "execution_count": 39,
   "metadata": {
    "collapsed": false
   },
   "outputs": [],
   "source": [
    "'''\n",
    "Take the matrix of flows and create a new matrix where the rows\n",
    "and columns now corresponds to logarithmically scalled bins.\n",
    "'''\n",
    "\n",
    "#create new square matrix with one row/column for each bin\n",
    "number_rows = len(bin_edges) - 1\n",
    "#create dtype for matrix recording bins\n",
    "Dlist = []\n",
    "for i in range(0, len(bin_edges)-1):\n",
    "    x = str(bin_edges[i]) + '-' + str(bin_edges[i+1])\n",
    "    Dlist += [(x, 'i4')]\n",
    "    \n",
    "M = np.zeros(number_rows, dtype=np.dtype(Dlist))\n",
    "\n",
    "def WhichBin(value, bin_edges):\n",
    "    '''\n",
    "    Find the bin appropriate for a value.\n",
    "    '''\n",
    "    k = 0\n",
    "    assert value > bin_edges[k]\n",
    "    while value > bin_edges[k]:\n",
    "        k += 1\n",
    "    #once value is smaller than the bin edge get the bin\n",
    "    bin_lower = bin_edges[k-1]\n",
    "    bin_upper = bin_edges[k]\n",
    "    return str(bin_lower) + '-' + str(bin_upper)\n",
    "\n",
    "for i in range(A.shape[0]):\n",
    "    #get which bin i is in\n",
    "    i_bin = WhichBin(i, bin_edges)\n",
    "    for j in range(M.shape[0]):\n",
    "        #get which bin j is in\n",
    "        j_bin = WhichBin(i, bin_edges)\n",
    "        A[i_bin]"
   ]
  },
  {
   "cell_type": "code",
   "execution_count": 40,
   "metadata": {
    "collapsed": false
   },
   "outputs": [
    {
     "data": {
      "text/plain": [
       "'-0.01-1.0'"
      ]
     },
     "execution_count": 40,
     "metadata": {},
     "output_type": "execute_result"
    }
   ],
   "source": [
    "WhichBin(1, bin_edges)"
   ]
  },
  {
   "cell_type": "code",
   "execution_count": 30,
   "metadata": {
    "collapsed": false
   },
   "outputs": [
    {
     "name": "stdout",
     "output_type": "stream",
     "text": [
      "[('-0.01-1.0', '<i4'), ('1.0-1.6487212707', '<i4'), ('1.6487212707-2.71828182846', '<i4'), ('2.71828182846-4.48168907034', '<i4'), ('4.48168907034-7.38905609893', '<i4'), ('7.38905609893-12.1824939607', '<i4'), ('12.1824939607-20.0855369232', '<i4'), ('20.0855369232-33.1154519587', '<i4'), ('33.1154519587-54.5981500331', '<i4'), ('54.5981500331-90.0171313005', '<i4'), ('90.0171313005-148.413159103', '<i4'), ('148.413159103-244.691932264', '<i4'), ('244.691932264-403.428793493', '<i4'), ('403.428793493-665.141633044', '<i4')]\n"
     ]
    }
   ],
   "source": [
    "#detemine which columns (/rows) are in each bin\n",
    "#use the numpy histogram function to get the number in each bin\n",
    "freq, bins = np.histogram(range(A.shape[0]), bin_edges)\n",
    "#then go thro"
   ]
  },
  {
   "cell_type": "code",
   "execution_count": null,
   "metadata": {
    "collapsed": false
   },
   "outputs": [],
   "source": [
    "#get degrees for degree histograms\n",
    "degs = [lfn.UpdatedDegree(node) for node in lfn.graph.nodes()]"
   ]
  },
  {
   "cell_type": "code",
   "execution_count": null,
   "metadata": {
    "collapsed": false
   },
   "outputs": [],
   "source": [
    "freq, bins = np.histogram(degs, bin_edges)\n",
    "for i in range(len(freq)):\n",
    "    freq[i] = freq[i]/float(bins[i+1])\n",
    "s = 0\n",
    "for i in range(len(bins)-1):\n",
    "    x = bins[i+1] - bins[i]\n",
    "    y = x*freq[i]\n",
    "    s += y\n",
    "freq = freq/float(s)\n",
    "plt.bar(bins[:-1], freq, label='Log Bins', alpha=0.5, color='green')\n",
    "plt.hist(degs, bins=100, label='Linear Bins', alpha=0.3, color='blue', normed=True)\n",
    "plt.yscale('log')\n",
    "plt.xscale('log')\n",
    "plt.legend()\n",
    "plt.title('Histogram of updated degrees of LFN. \\n Log Bins Divided By Upper Bin Limit.')\n",
    "plt.savefig(os.path.join(project_root, 'reports', 'figures', 'Histogram of updated degrees of LFN_logscale_bins_normalised.png'))"
   ]
  },
  {
   "cell_type": "code",
   "execution_count": null,
   "metadata": {
    "collapsed": false
   },
   "outputs": [],
   "source": []
  },
  {
   "cell_type": "code",
   "execution_count": null,
   "metadata": {
    "collapsed": true
   },
   "outputs": [],
   "source": []
  },
  {
   "cell_type": "code",
   "execution_count": null,
   "metadata": {
    "collapsed": false
   },
   "outputs": [],
   "source": [
    "lh = plt.hist(degs, bins=bin_edges, label='Log Bins', alpha=0.5)\n",
    "plt.hist(degs, bins=100, label='Linear Bins', alpha=0.5)\n",
    "plt.yscale('log')\n",
    "plt.xscale('log')\n",
    "plt.title('Histogram of updated degrees of LFN.')\n",
    "plt.legend()\n",
    "plt.savefig(os.path.join(project_root, 'reports', 'figures', 'Histogram of updated degrees of LFN_logscale_bins'))"
   ]
  }
 ],
 "metadata": {
  "anaconda-cloud": {},
  "kernelspec": {
   "display_name": "Python [default]",
   "language": "python",
   "name": "python2"
  },
  "language_info": {
   "codemirror_mode": {
    "name": "ipython",
    "version": 2
   },
   "file_extension": ".py",
   "mimetype": "text/x-python",
   "name": "python",
   "nbconvert_exporter": "python",
   "pygments_lexer": "ipython2",
   "version": "2.7.12"
  }
 },
 "nbformat": 4,
 "nbformat_minor": 0
}
