{
 "cells": [
  {
   "cell_type": "code",
   "execution_count": 71,
   "metadata": {
    "collapsed": false
   },
   "outputs": [],
   "source": [
    "import os\n",
    "project_root = os.pardir\n",
    "import sys\n",
    "src_dir = os.path.join(project_root, 'src')\n",
    "sys.path.append(src_dir)\n",
    "\n",
    "import random as rand\n",
    "import networkx as nx\n",
    "import data.make_dataset as dat\n",
    "import collections as col\n",
    "import matplotlib\n",
    "import matplotlib.pyplot as plt\n",
    "matplotlib.style.use('ggplot')\n",
    "%matplotlib inline"
   ]
  },
  {
   "cell_type": "code",
   "execution_count": 2,
   "metadata": {
    "collapsed": false
   },
   "outputs": [],
   "source": [
    "class LFN:\n",
    "    '''\n",
    "    Class of Labour Flow Networks.\n",
    "\n",
    "    - Inherit from the class of networkx networks.\n",
    "    - Make method: Create an LFN for the years specified\n",
    "    - FilepathInfo method: return a string to be used as part of a filename\n",
    "    specifying the key details of the LFN\n",
    "\n",
    "    Node Attributes:\n",
    "        'Dead': dictionary mapping every node to True if node is dead or False\n",
    "        if node is alive.\n",
    "        \n",
    "    Data Attributes\n",
    "        dead_nodes: set of dead nodes.\n",
    "    '''\n",
    "    def __init__(\n",
    "                self,\n",
    "                flow_years, nflow_rows=None,\n",
    "                death_years=None, ndeath_rows=None\n",
    "                ):\n",
    "        '''\n",
    "        Create LFN from specified flowyears and add corresponding filepath info.\n",
    "        If deathyears provided add dead_ids and dead_nodes data attributes\n",
    "        and mark dead nodes in graph as dead.\n",
    "        '''\n",
    "\n",
    "        self.graph = dat.MakeLFN(flow_years, nrows=nflow_rows)\n",
    "        self.filepath_info = 'flows' + flow_years\n",
    "        self.AllAlive()\n",
    "        self.dead_ids = set()\n",
    "        self.dead_nodes = set()\n",
    "        if death_years != None:\n",
    "            self.filepath_info = self.filepath_info + '_deaths' + death_years\n",
    "            self.dead_ids = dat.GetDeadIds(\n",
    "                                    death_years=death_years, nrows=ndeath_rows\n",
    "                                    )\n",
    "            self.dead_nodes = set(dat.DeadInLFN(self.graph, self.dead_ids))\n",
    "            self.KillNodes(self.dead_nodes)\n",
    "\n",
    "    def PrintInfo(self):\n",
    "        '''\n",
    "        Print info on LFN.\n",
    "        '''\n",
    "        nx.info(self.graph)\n",
    "        print('Death Years: ' + death_years)\n",
    "\n",
    "    def AllAlive(self):\n",
    "        '''\n",
    "        Sets node attributes so that all nodes are marked as alive.\n",
    "        '''\n",
    "        dead_dict = dict()\n",
    "        for node in self.graph.nodes():\n",
    "            dead_dict[node] = False\n",
    "        nx.set_node_attributes(self.graph, 'Dead', dead_dict)\n",
    "\n",
    "    def KillNodes(self, dead_ids):\n",
    "        '''\n",
    "        Change node attributes for nodes in list dead_ids to Dead.\n",
    "        Also updates the 'dead_nodes' list.\n",
    "        '''\n",
    "        dead_nodes = dat.DeadInLFN(self.graph, dead_ids)\n",
    "        new_dead_nodes = set(dead_nodes).difference(self.dead_nodes)\n",
    "        #update attributes\n",
    "        dead_dict = nx.get_node_attributes(self.graph, 'Dead')\n",
    "        for node in new_dead_nodes:\n",
    "            dead_dict[node] = True\n",
    "        nx.set_node_attributes(self.graph, 'Dead', dead_dict)\n",
    "        #add new dead nodes to list of dead nodes\n",
    "        self.dead_nodes = self.dead_nodes.union(set(new_dead_nodes))\n",
    "        self.dead_ids = self.dead_ids.union(set(dead_ids))\n",
    "        \n",
    "    def AliveNodes(self):\n",
    "        '''\n",
    "        Return set of nodes in LFN that are alive.\n",
    "        '''\n",
    "        return set(self.graph.nodes()).difference(self.dead_nodes)\n",
    "    \n",
    "    def NodeDead(self, node):\n",
    "        '''\n",
    "        Return True if node is dead and False if node is alive.\n",
    "        '''\n",
    "        return self.graph.node[node]['Dead']\n",
    "    \n",
    "    def UpdatedDegree(self, node):\n",
    "        '''\n",
    "        Return the updated degree of the node. That means it is\n",
    "        number of neighbours of the node that are alive.\n",
    "        '''\n",
    "        neighs = nx.neighbors(self.graph, node)\n",
    "        alive_neighs = [neigh for neigh in neighs if not self.NodeDead(neigh)]\n",
    "        return len(alive_neighs)"
   ]
  },
  {
   "cell_type": "code",
   "execution_count": 41,
   "metadata": {
    "collapsed": false
   },
   "outputs": [],
   "source": [
    "def PropDead(all_count, dead_count):\n",
    "    '''\n",
    "    Take dictionary of dead counts and compare it to dictionary of counts for\n",
    "    the entire LFN by taking ratios.\n",
    "    'Overall' is the overall proportion of firms that died.\n",
    "    Return dictionary of proportion dead.\n",
    "    '''\n",
    "    prop_dead = dict()\n",
    "    for key in all_count.keys():\n",
    "        prop_dead[key] = dead_count[key]/float(all_count[key])\n",
    "    prop_dead['Overall'] = sum(dead_count.values())/float(sum(all_count.values()))\n",
    "    return prop_dead\n",
    "\n",
    "def UpdatedDegreeRun(year1, yearend, lfn, mc=False):\n",
    "    '''\n",
    "    Carry out one run for to get updated degrees of all dead nodes and\n",
    "    all nodes. Updated degree is degree of node in LFN minus the number\n",
    "    of dead neighbours of the node (ie, number of living neighbours).\n",
    "    \n",
    "    More precisely, this function takes the first one year interval\n",
    "    'year1-year1+1' and makes a list of the updated degree of every node in\n",
    "    the LFN (since this is the first year, the updated degree is actually\n",
    "    the same as the degree). It then finds the firms that died in the interval\n",
    "    'year1-year1+1' and produces a list of the updated degrees of all these\n",
    "    firms. The next year is then considered, 'year1+1-year1+2' and the updated\n",
    "    degrees of all remaining firms are added to the list of all degrees and\n",
    "    similarly the updated degrees of all firms that died in that year are added\n",
    "    to the list of all dead degrees.\n",
    "    \n",
    "    Note that:\n",
    "        (a) In the calculation of the updated degree of node i, nodes that\n",
    "        died in the same year as node i are counted as alive.\n",
    "        (b) The function returns only returns the running total of the updated\n",
    "        degrees of all the firms that died in the entire 'year1-yearend' interval.\n",
    "    \n",
    "    Args\n",
    "    =====\n",
    "    year1 : int\n",
    "        The first year of deaths to be considered.\n",
    "    yearend : int\n",
    "        The last year of deaths to be considered.\n",
    "    lfn : LFN\n",
    "        The lfn object being considered\n",
    "    mc : bool\n",
    "        Specifies whether a Monte Carlo Run is desired. In a Monte Carlo run\n",
    "        the number of deaths in each interval of years is found from the data,\n",
    "        but the firm IDs of the dead firms are chosen at random.\n",
    "    \n",
    "    Returns\n",
    "    =======\n",
    "    2 lists : all_updtdeg, dead_updtdeg\n",
    "    dead_uptdeg is a list of the updated degrees of every firm that\n",
    "    died, where the updated degree is calculated at the time of death. all_updtdeg\n",
    "    is a list of the updated degrees of every firm at the end of each time period.\n",
    "    \n",
    "    These lists can be used to find, eg, the proportion of all firms with a given\n",
    "    updated degree that died.\n",
    "    '''\n",
    "    lfn.AllAlive()\n",
    "    dead_updtdeg = []\n",
    "    all_updtdeg = []\n",
    "    for year in range(year1, yearend):\n",
    "        death_years = dat.StrFromYrs(year, year+1)\n",
    "        dead_ids = dat.GetDeadIds(death_years = death_years)\n",
    "        dead_nodes = dat.DeadInLFN(lfn.graph, dead_ids)\n",
    "        if mc==True: #if Monte Carlo run then randomise dead nodes\n",
    "            number_dead_nodes = len(dead_nodes)\n",
    "            all_nodes = lfn.graph.nodes()\n",
    "            rand.shuffle(all_nodes)\n",
    "            dead_nodes = all_nodes[:number_dead_nodes]\n",
    "        dead_updtdeg += [lfn.UpdatedDegree(node) for node in dead_nodes]\n",
    "        all_updtdeg += [lfn.UpdatedDegree(node) for node in lfn.graph.nodes()]\n",
    "        lfn.KillNodes(dead_ids)\n",
    "    return all_updtdeg, dead_updtdeg"
   ]
  },
  {
   "cell_type": "code",
   "execution_count": 57,
   "metadata": {
    "collapsed": false
   },
   "outputs": [
    {
     "name": "stdout",
     "output_type": "stream",
     "text": [
      "Name: LFN with flows: 1996-1997.\n",
      "Type: Graph\n",
      "Number of nodes: 31661\n",
      "Number of edges: 37233\n",
      "Average degree:   2.3520\n"
     ]
    }
   ],
   "source": [
    "lfn = LFN('1996-1997')\n",
    "year1, yearend = 1996, 1998\n",
    "number_mc_runs = 2\n",
    "act_all_updtdeg, act_dead_uptdeg = UpdatedDegreeRun(year1, yearend, lfn)\n",
    "mc_res = []\n",
    "for i in range(number_mc_runs):\n",
    "    mc_res += [UpdatedDegreeRun(year1, yearend, lfn, mc=True)]"
   ]
  },
  {
   "cell_type": "code",
   "execution_count": 58,
   "metadata": {
    "collapsed": false
   },
   "outputs": [],
   "source": [
    "act_all_count = col.Counter(act_all_updtdeg)\n",
    "act_dead_count = col.Counter(act_dead_uptdeg)\n",
    "act_prop_dead = PropDead(act_all_count, act_dead_count)\n",
    "#create empty list of monte carlo proportion dead dicts\n",
    "mc_prop_deads = []\n",
    "for run in mc_res:\n",
    "    mc_all_count = col.Counter(run[0])\n",
    "    mc_dead_count = col.Counter(run[1])\n",
    "    mc_prop_deads += [PropDead(mc_all_count, mc_dead_count)]"
   ]
  },
  {
   "cell_type": "code",
   "execution_count": 85,
   "metadata": {
    "collapsed": false
   },
   "outputs": [],
   "source": [
    "mcavg_prop_dead = dict()\n",
    "for updtdeg in mc_prop_deads[0].keys():\n",
    "    updtdegs = [pd[updtdeg] for pd in mc_prop_deads]\n",
    "    avg = sum(updtdegs)/float(len(updtdegs))\n",
    "    mcavg_prop_dead[updtdeg] = avg"
   ]
  },
  {
   "cell_type": "code",
   "execution_count": null,
   "metadata": {
    "collapsed": false
   },
   "outputs": [],
   "source": []
  },
  {
   "cell_type": "code",
   "execution_count": 61,
   "metadata": {
    "collapsed": true
   },
   "outputs": [],
   "source": [
    "def MonteCarloBoxPlot(monte_carlo, actual, axes, info=None, xpos=1):\n",
    "    '''\n",
    "    Plot monte carlo results as box and whiskers plot with actual\n",
    "    result superimposed.\n",
    "    \n",
    "    Args\n",
    "    =====\n",
    "    monte_carlo : list of scalars\n",
    "        List of the results of each monte carlo run\n",
    "    actual : scalar\n",
    "        Actual result.\n",
    "    info : string\n",
    "        Specifies what the plot is showing.\n",
    "    xpos : scalar\n",
    "        Specifies the position on the x-axis of the plot.\n",
    "        \n",
    "    Returns\n",
    "    =======\n",
    "    Boxplot\n",
    "    '''\n",
    "    axes.boxplot( monte_carlo,\n",
    "                showcaps=False,\n",
    "                #boxprops=dict(facecolor = 'red', linewidth=0, alpha = 0.8),\n",
    "                medianprops=dict(color='w'),\n",
    "                showfliers=False,\n",
    "                whiskerprops=dict(color='k', alpha=0.5, linestyle='-'),\n",
    "                positions=[xpos]\n",
    "                )\n",
    "    axes.scatter([xpos], [actual], color='gray', marker = 'D', s = 10, linewidth=2,)"
   ]
  },
  {
   "cell_type": "code",
   "execution_count": 96,
   "metadata": {
    "collapsed": false
   },
   "outputs": [
    {
     "data": {
      "image/png": "[encoded data removed]",
      "text/plain": [
       "<matplotlib.figure.Figure at 0x1199487d0>"
      ]
     },
     "metadata": {},
     "output_type": "display_data"
    }
   ],
   "source": [
    "fig = plt.figure() #create figure\n",
    "ax = fig.add_subplot(1,1,1) #add axes\n",
    "updtdegs = range(1, 10)\n",
    "for updtdeg in updtdegs:\n",
    "    monte_carlo = [prop_dead[updtdeg] for prop_dead in mc_prop_deads]\n",
    "    actual = act_prop_dead[updtdeg]\n",
    "    MonteCarloBoxPlot(monte_carlo, actual, ax, info=str(updtdeg), xpos=updtdeg)\n",
    "ax.set_xlim(min(updtdegs)-1, max(updtdegs)+1)\n",
    "ax.set_xticklabels(updtdegs)\n",
    "ax.set_xlabel('Updated Degree. For some reason axis labels didn\\'t come out right \\n' \\\n",
    "                 'but should start at 1 on the left.')\n",
    "ax.set_ylabel('Proportion Dead')\n",
    "plt.savefig(os.path.join(\n",
    "                        project_root, 'reports', 'figures',\n",
    "                        'updated_degree_boxplots.png'))"
   ]
  },
  {
   "cell_type": "code",
   "execution_count": 93,
   "metadata": {
    "collapsed": false
   },
   "outputs": [
    {
     "data": {
      "image/png": "[encoded data removed]",
      "text/plain": [
       "<matplotlib.figure.Figure at 0x11914d150>"
      ]
     },
     "metadata": {},
     "output_type": "display_data"
    }
   ],
   "source": [
    "s=1\n",
    "l=10\n",
    "plt.plot(act_prop_dead.keys()[s:l], act_prop_dead.values()[s:l], label='actual')\n",
    "plt.plot(mcavg_prop_dead.keys()[s-1:l], mcavg_prop_dead.values()[s-1:l], label= 'mc average')\n",
    "plt.set_xlabel('Updated Degree')\n",
    "plt.set_ylabel('Proportion Dead')\n",
    "plt.legend()\n",
    "plt.savefig(os.path.join(\n",
    "                        project_root, 'reports', 'figures',\n",
    "                        'updated_degree_average.png'))"
   ]
  },
  {
   "cell_type": "code",
   "execution_count": null,
   "metadata": {
    "collapsed": false
   },
   "outputs": [],
   "source": []
  },
  {
   "cell_type": "code",
   "execution_count": null,
   "metadata": {
    "collapsed": false
   },
   "outputs": [],
   "source": []
  },
  {
   "cell_type": "code",
   "execution_count": null,
   "metadata": {
    "collapsed": false
   },
   "outputs": [],
   "source": []
  },
  {
   "cell_type": "code",
   "execution_count": null,
   "metadata": {
    "collapsed": true
   },
   "outputs": [],
   "source": [
    "#compare Monte Carlo to actual results\n",
    "fvs = [1, 2, 3, 4, 5] #values of the feature we want to plot\n",
    "fig, axarr = plt.subplots(1, len(fvs), figsize=(10, 5), sharey=True)\n",
    "ax_num = 0\n",
    "for fv in fvs:\n",
    "    #Get the list of proportions of firms with feature value fv\n",
    "    #that are chosen to be dead in this Monte Carlo run.\n",
    "    mc_prop_deads_at_fv = [x[fv] for x in mc_prop_deads]\n",
    "    #Add boxplot of proportions dead in Monte Carlo runs\n",
    "    axarr[ax_num].boxplot(mc_prop_deads_at_fv, showfliers = False, positions=[fv])\n",
    "    #Add actual value of proportion dead\n",
    "    axarr[ax_num].scatter([fv], prop_dead[fv], marker='+', color='g', linewidth=10, label='Actual')\n",
    "    #Ensure that the next plot is on a new axis\n",
    "    ax_num += 1\n",
    "plt.legend()\n",
    "feature_info = str(feature_function)[10:-16]\n",
    "plt.title(\n",
    "            'Box plots showing results of Monte Carlo with green pluses' \\\n",
    "            'representing the actual results. \\n All plots showing proportion' \\\n",
    "            'of total firms in LFN dead with given feature value. \\n The feature' \\\n",
    "            'here is from the function ' + feature_info,\n",
    "            loc='right', fontsize=10)\n",
    "plt.xlabel(feature_info)\n",
    "plt.ylabel('Proportion Dead')\n",
    "plt.savefig(os.path.join(\n",
    "                        project_root, 'reports', 'figures',\n",
    "                        'effect_of_' + feature_info + '.png'))"
   ]
  }
 ],
 "metadata": {
  "anaconda-cloud": {},
  "kernelspec": {
   "display_name": "Python [default]",
   "language": "python",
   "name": "python2"
  },
  "language_info": {
   "codemirror_mode": {
    "name": "ipython",
    "version": 2
   },
   "file_extension": ".py",
   "mimetype": "text/x-python",
   "name": "python",
   "nbconvert_exporter": "python",
   "pygments_lexer": "ipython2",
   "version": "2.7.12"
  }
 },
 "nbformat": 4,
 "nbformat_minor": 0
}
