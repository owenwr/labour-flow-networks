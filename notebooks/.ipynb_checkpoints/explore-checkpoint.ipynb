{
 "cells": [
  {
   "cell_type": "code",
   "execution_count": 1,
   "metadata": {
    "collapsed": false
   },
   "outputs": [],
   "source": [
    "import os\n",
    "project_root = os.pardir\n",
    "import sys\n",
    "sys.path.append(project_root)"
   ]
  },
  {
   "cell_type": "code",
   "execution_count": 14,
   "metadata": {
    "collapsed": false
   },
   "outputs": [],
   "source": [
    "import src.general as gen\n",
    "from src.data import make_dataset as dat\n",
    "import matplotlib\n",
    "import matplotlib.pyplot as plt\n",
    "matplotlib.style.use('ggplot')\n",
    "import pandas as pd\n",
    "import networkx as nx\n",
    "import collections as col\n",
    "import numpy as np\n",
    "import tqdm\n",
    "import random\n",
    "%matplotlib inline"
   ]
  },
  {
   "cell_type": "code",
   "execution_count": 3,
   "metadata": {
    "collapsed": true
   },
   "outputs": [],
   "source": [
    "data_dir = os.path.join(project_root, 'data', 'raw', '16-12-2016-Mega')"
   ]
  },
  {
   "cell_type": "code",
   "execution_count": 4,
   "metadata": {
    "collapsed": true
   },
   "outputs": [],
   "source": [
    "year = 1997\n",
    "profits_filename = 'profits_' + str(year) + '.csv'\n",
    "sizes_filename = 'sizes_' + str(year) + '.csv'\n",
    "profits_filepath = os.path.join(data_dir, 'profits', profits_filename)\n",
    "sizes_filepath = os.path.join(data_dir, 'sizes', sizes_filename)"
   ]
  },
  {
   "cell_type": "code",
   "execution_count": 5,
   "metadata": {
    "collapsed": false
   },
   "outputs": [],
   "source": [
    "p = pd.read_csv(profits_filepath, index_col='firm_id')\n",
    "s = pd.read_csv(sizes_filepath, index_col='firm_id')\n",
    "df = p.merge(s, left_index=True, right_index=True, suffixes=('_profit', '_size'))"
   ]
  },
  {
   "cell_type": "code",
   "execution_count": 6,
   "metadata": {
    "collapsed": false
   },
   "outputs": [],
   "source": [
    "a = df[df['value_size'] <10]"
   ]
  },
  {
   "cell_type": "code",
   "execution_count": null,
   "metadata": {
    "collapsed": false
   },
   "outputs": [],
   "source": []
  },
  {
   "cell_type": "code",
   "execution_count": null,
   "metadata": {
    "collapsed": false
   },
   "outputs": [],
   "source": []
  },
  {
   "cell_type": "code",
   "execution_count": null,
   "metadata": {
    "collapsed": false
   },
   "outputs": [],
   "source": []
  },
  {
   "cell_type": "code",
   "execution_count": null,
   "metadata": {
    "collapsed": false
   },
   "outputs": [],
   "source": []
  },
  {
   "cell_type": "code",
   "execution_count": null,
   "metadata": {
    "collapsed": false
   },
   "outputs": [],
   "source": []
  },
  {
   "cell_type": "code",
   "execution_count": null,
   "metadata": {
    "collapsed": false
   },
   "outputs": [],
   "source": []
  },
  {
   "cell_type": "code",
   "execution_count": null,
   "metadata": {
    "collapsed": false
   },
   "outputs": [],
   "source": []
  },
  {
   "cell_type": "code",
   "execution_count": null,
   "metadata": {
    "collapsed": false,
    "scrolled": true
   },
   "outputs": [],
   "source": []
  },
  {
   "cell_type": "code",
   "execution_count": null,
   "metadata": {
    "collapsed": false,
    "scrolled": false
   },
   "outputs": [],
   "source": []
  },
  {
   "cell_type": "code",
   "execution_count": null,
   "metadata": {
    "collapsed": false
   },
   "outputs": [],
   "source": []
  },
  {
   "cell_type": "code",
   "execution_count": null,
   "metadata": {
    "collapsed": false
   },
   "outputs": [],
   "source": []
  },
  {
   "cell_type": "code",
   "execution_count": null,
   "metadata": {
    "collapsed": false
   },
   "outputs": [],
   "source": []
  },
  {
   "cell_type": "code",
   "execution_count": null,
   "metadata": {
    "collapsed": false
   },
   "outputs": [],
   "source": []
  },
  {
   "cell_type": "code",
   "execution_count": null,
   "metadata": {
    "collapsed": false
   },
   "outputs": [],
   "source": []
  },
  {
   "cell_type": "code",
   "execution_count": 61,
   "metadata": {
    "collapsed": false
   },
   "outputs": [
    {
     "data": {
      "text/plain": [
       "[2503, 1069, 541, 374, 278, 192, 188, 149, 116, 102]"
      ]
     },
     "execution_count": 61,
     "metadata": {},
     "output_type": "execute_result"
    }
   ],
   "source": [
    "dead_sum_count.values()[:10]"
   ]
  },
  {
   "cell_type": "code",
   "execution_count": null,
   "metadata": {
    "collapsed": true
   },
   "outputs": [],
   "source": []
  },
  {
   "cell_type": "code",
   "execution_count": 69,
   "metadata": {
    "collapsed": false
   },
   "outputs": [
    {
     "data": {
      "text/plain": [
       "<module 'src.data.make_dataset' from '../src/data/make_dataset.pyc'>"
      ]
     },
     "execution_count": 69,
     "metadata": {},
     "output_type": "execute_result"
    }
   ],
   "source": [
    "reload(dat)"
   ]
  },
  {
   "cell_type": "code",
   "execution_count": 145,
   "metadata": {
    "collapsed": true
   },
   "outputs": [
    {
     "data": {
      "text/plain": [
       "\"\\nTest to see whether\\n(i) degree, or\\n(ii) sum of degrees of neighbours (which I call 'nsum') \\naffects the chance of a firm dying.\\n\\n1. Get number of firms with each degree (or nsum)\\n    - Return a collections 'counter' dictionary\\n2. For each degree (nsum), ask what proportion died.\\nBe careful to recognise when numbers are too small for\\nproportions to be meaningful.\\n3. Do Monte Carlo, pciking N dead firms.\\nWill get a distribution for each degree.\\n\\nVisualise\\n- Box and Whiskers plots - plot Monte Carlo distribution\\n- Histogram plus actual value line\\n\\nInput Data\\ngraph: LFN graph\\nLFN_dead_ids: ids of firms in LFN that are dead\\n\""
      ]
     },
     "execution_count": 145,
     "metadata": {},
     "output_type": "execute_result"
    }
   ],
   "source": [
    "'''\n",
    "Test to see whether\n",
    "(i) degree, or\n",
    "(ii) sum of degrees of neighbours (which I call 'nsum') \n",
    "affects the chance of a firm dying.\n",
    "\n",
    "1. Get number of firms with each degree (or nsum)\n",
    "    - Return a collections 'counter' dictionary\n",
    "2. For each degree (nsum), ask what proportion died.\n",
    "Be careful to recognise when numbers are too small for\n",
    "proportions to be meaningful.\n",
    "3. Do Monte Carlo, pciking N dead firms.\n",
    "Will get a distribution for each degree.\n",
    "\n",
    "Visualise\n",
    "- Box and Whiskers plots - plot Monte Carlo distribution\n",
    "- Histogram plus actual value line\n",
    "\n",
    "Input Data\n",
    "graph: LFN graph\n",
    "LFN_dead_ids: ids of firms in LFN that are dead\n",
    "'''"
   ]
  },
  {
   "cell_type": "code",
   "execution_count": 9,
   "metadata": {
    "collapsed": false
   },
   "outputs": [
    {
     "name": "stdout",
     "output_type": "stream",
     "text": [
      "../src/data/../../data/raw/16-12-2016-Mega/dates_death.csv\n"
     ]
    }
   ],
   "source": [
    "graph = dat.MakeLFN('1996-1997', print_info=False)\n",
    "dead_ids = dat.GetDeadIds(death_years='all')"
   ]
  },
  {
   "cell_type": "code",
   "execution_count": 10,
   "metadata": {
    "collapsed": false
   },
   "outputs": [],
   "source": [
    "def FeatureList(feature_function, graph, nodes):\n",
    "    '''\n",
    "    Feature_function is a function that maps (graph, nodes)\n",
    "    to a new value - the feature we are interested in.\n",
    "    Returns a list of how many nodes have each possible value\n",
    "    of the feature.\n",
    "    '''\n",
    "    LFN_nodes = set(nodes).intersection(set(graph.nodes()))\n",
    "    return [feature_function(graph, node) for node in LFN_nodes]\n",
    "\n",
    "def SumNeighDeg(graph, node):\n",
    "    '''\n",
    "    Returns sum of the degrees of the neighbours of the node.\n",
    "    '''\n",
    "    neighs = nx.neighbors(graph, node)\n",
    "    degrees = [nx.degree(graph, neigh) for neigh in neighs]\n",
    "    return sum(degrees)\n",
    "\n",
    "def PropDead(all_count, dead_count):\n",
    "    '''\n",
    "    Take dictionary of dead counts and compare it to dictionary of counts for\n",
    "    the entire LFN by taking ratios.\n",
    "    'Overall' is the overall proportion of firms that died.\n",
    "    Return dictionary of proportion dead.\n",
    "    '''\n",
    "    prop_dead = dict()\n",
    "    for key in all_count.keys():\n",
    "        prop_dead[key] = dead_count[key]/float(all_count[key])\n",
    "    prop_dead['Overall'] = sum(dead_count.values())/float(sum(all_count.values()))\n",
    "    return prop_dead\n",
    "\n",
    "def MonteCarloRun(all_list, number_dead_in_LFN):\n",
    "    random.shuffle(all_list)\n",
    "    "
   ]
  },
  {
   "cell_type": "code",
   "execution_count": 11,
   "metadata": {
    "collapsed": false
   },
   "outputs": [],
   "source": [
    "#choose the feature function we want to use\n",
    "feature_function = nx.degree\n",
    "#feature_function = SumNeighDeg\n",
    "\n",
    "#choose numer of Monte Carlo runs desired\n",
    "number_mc_runs = 1000"
   ]
  },
  {
   "cell_type": "code",
   "execution_count": 12,
   "metadata": {
    "collapsed": false
   },
   "outputs": [],
   "source": [
    "#get feature list and count using all nodes\n",
    "all_list = FeatureList(feature_function, graph, graph.nodes())\n",
    "all_count = col.Counter(all_list)\n",
    "#get feature list and count using just nodes dead in LFN\n",
    "dead_list = FeatureList(feature_function, graph, dead_ids)\n",
    "dead_count = col.Counter(dead_list)\n",
    "#number of nodes in LFN that died\n",
    "ndead_in_LFN = sum(dead_count.values())\n",
    "#get proportion of firms dead with each possible value of the feature\n",
    "prop_dead = PropDead(all_count, dead_count)"
   ]
  },
  {
   "cell_type": "code",
   "execution_count": 15,
   "metadata": {
    "collapsed": false
   },
   "outputs": [
    {
     "name": "stderr",
     "output_type": "stream",
     "text": [
      "100%|██████████| 1000/1000 [00:30<00:00, 33.04it/s]\n"
     ]
    }
   ],
   "source": [
    "#do Monte Carlo\n",
    "mc_counts = []\n",
    "mc_prop_deads = []\n",
    "for i in tqdm.tqdm(xrange(number_mc_runs)):\n",
    "    random.shuffle(all_list)\n",
    "    mc_list = all_list[:ndead_in_LFN]\n",
    "    mc_count = col.Counter(mc_list)\n",
    "    mc_prop_dead = PropDead(all_count, mc_count)\n",
    "    \n",
    "    mc_counts += [mc_count]\n",
    "    mc_prop_deads += [mc_prop_dead]    "
   ]
  },
  {
   "cell_type": "code",
   "execution_count": 24,
   "metadata": {
    "collapsed": false
   },
   "outputs": [
    {
     "data": {
      "image/png": "[encoded data removed]",
      "text/plain": [
       "<matplotlib.figure.Figure at 0x11a7f6850>"
      ]
     },
     "metadata": {},
     "output_type": "display_data"
    }
   ],
   "source": [
    "#compare Monte Carlo to actual results\n",
    "fvs = [1, 2, 3, 4, 5] #values of the feature we want to plot\n",
    "fig, axarr = plt.subplots(1, len(fvs), figsize=(10, 5), sharey=True)\n",
    "ax_num = 0\n",
    "for fv in fvs:\n",
    "    #Get the list of proportions of firms with feature value fv\n",
    "    #that are chosen to be dead in this Monte Carlo run.\n",
    "    mc_prop_deads_at_fv = [x[fv] for x in mc_prop_deads]\n",
    "    #Add boxplot of proportions dead in Monte Carlo runs\n",
    "    axarr[ax_num].boxplot(mc_prop_deads_at_fv, showfliers = False, positions=[fv])\n",
    "    #Add actual value of proportion dead\n",
    "    axarr[ax_num].scatter([fv], prop_dead[fv], marker='+', color='g', linewidth=10, label='Actual')\n",
    "    #Ensure that the next plot is on a new axis\n",
    "    ax_num += 1\n",
    "plt.legend()\n",
    "feature_info = str(feature_function)[10:-16]\n",
    "plt.title(\n",
    "            'Box plots showing results of Monte Carlo with green pluses' \\\n",
    "            'representing the actual results. \\n All plots showing proportion' \\\n",
    "            'of total firms in LFN dead with given feature value. \\n The feature' \\\n",
    "            'here is from the function ' + feature_info,\n",
    "            loc='right', fontsize=10)\n",
    "plt.xlabel(feature_info)\n",
    "plt.ylabel('Proportion Dead')\n",
    "plt.savefig(os.path.join(\n",
    "                        project_root, 'reports', 'figures',\n",
    "                        'effect_of_' + feature_info + '.png'))"
   ]
  },
  {
   "cell_type": "code",
   "execution_count": 35,
   "metadata": {
    "collapsed": false
   },
   "outputs": [],
   "source": [
    "#Get Table of dead_count vs all_count\n",
    "all_count_series = pd.Series(all_count, name='Number in LFN')\n",
    "dead_count_series = pd.Series(dead_count, name='Number Dead')\n",
    "df = pd.concat([all_count_series, dead_count_series], axis=1)\n",
    "df.index.name = 'Degree'\n",
    "df['Proportion Dead'] = df['Number Dead']/df['Number in LFN']"
   ]
  },
  {
   "cell_type": "code",
   "execution_count": 36,
   "metadata": {
    "collapsed": false
   },
   "outputs": [
    {
     "data": {
      "text/html": [
       "<div>\n",
       "<table border=\"1\" class=\"dataframe\">\n",
       "  <thead>\n",
       "    <tr style=\"text-align: right;\">\n",
       "      <th></th>\n",
       "      <th>Number in LFN</th>\n",
       "      <th>Number Dead</th>\n",
       "      <th>Proportion Dead</th>\n",
       "    </tr>\n",
       "    <tr>\n",
       "      <th>Degree</th>\n",
       "      <th></th>\n",
       "      <th></th>\n",
       "      <th></th>\n",
       "    </tr>\n",
       "  </thead>\n",
       "  <tbody>\n",
       "    <tr>\n",
       "      <th>1</th>\n",
       "      <td>22053</td>\n",
       "      <td>6347.0</td>\n",
       "      <td>0.287807</td>\n",
       "    </tr>\n",
       "    <tr>\n",
       "      <th>2</th>\n",
       "      <td>4697</td>\n",
       "      <td>1588.0</td>\n",
       "      <td>0.338088</td>\n",
       "    </tr>\n",
       "    <tr>\n",
       "      <th>3</th>\n",
       "      <td>1664</td>\n",
       "      <td>580.0</td>\n",
       "      <td>0.348558</td>\n",
       "    </tr>\n",
       "    <tr>\n",
       "      <th>4</th>\n",
       "      <td>819</td>\n",
       "      <td>285.0</td>\n",
       "      <td>0.347985</td>\n",
       "    </tr>\n",
       "    <tr>\n",
       "      <th>5</th>\n",
       "      <td>538</td>\n",
       "      <td>187.0</td>\n",
       "      <td>0.347584</td>\n",
       "    </tr>\n",
       "  </tbody>\n",
       "</table>\n",
       "</div>"
      ],
      "text/plain": [
       "        Number in LFN  Number Dead  Proportion Dead\n",
       "Degree                                             \n",
       "1               22053       6347.0         0.287807\n",
       "2                4697       1588.0         0.338088\n",
       "3                1664        580.0         0.348558\n",
       "4                 819        285.0         0.347985\n",
       "5                 538        187.0         0.347584"
      ]
     },
     "execution_count": 36,
     "metadata": {},
     "output_type": "execute_result"
    }
   ],
   "source": [
    "df.head(5)"
   ]
  },
  {
   "cell_type": "code",
   "execution_count": 22,
   "metadata": {
    "collapsed": false
   },
   "outputs": [
    {
     "data": {
      "text/plain": [
       "'SumNeighDeg'"
      ]
     },
     "execution_count": 22,
     "metadata": {},
     "output_type": "execute_result"
    }
   ],
   "source": [
    "str(SumNeighDeg)[10:-16]"
   ]
  },
  {
   "cell_type": "code",
   "execution_count": 27,
   "metadata": {
    "collapsed": false
   },
   "outputs": [
    {
     "data": {
      "text/plain": [
       "'degree'"
      ]
     },
     "execution_count": 27,
     "metadata": {},
     "output_type": "execute_result"
    }
   ],
   "source": [
    "str(feature_function)[10:-16]"
   ]
  },
  {
   "cell_type": "code",
   "execution_count": null,
   "metadata": {
    "collapsed": true
   },
   "outputs": [],
   "source": []
  }
 ],
 "metadata": {
  "anaconda-cloud": {},
  "kernelspec": {
   "display_name": "Python [Root]",
   "language": "python",
   "name": "Python [Root]"
  },
  "language_info": {
   "codemirror_mode": {
    "name": "ipython",
    "version": 2
   },
   "file_extension": ".py",
   "mimetype": "text/x-python",
   "name": "python",
   "nbconvert_exporter": "python",
   "pygments_lexer": "ipython2",
   "version": "2.7.12"
  }
 },
 "nbformat": 4,
 "nbformat_minor": 0
}
