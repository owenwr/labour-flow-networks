{
 "cells": [
  {
   "cell_type": "code",
   "execution_count": 27,
   "metadata": {
    "collapsed": false
   },
   "outputs": [],
   "source": [
    "import os\n",
    "#project_root = '/Users/Owen/Dropbox/Mason/Mason_LFN/labour-flow-networks'\n",
    "project_root = '/Users/student/Dropbox/Mason/Mason_LFN/labour-flow-networks'\n",
    "os.chdir(project_root)\n",
    "import src.general as gen\n",
    "import matplotlib.pyplot as plt\n",
    "%matplotlib inline"
   ]
  },
  {
   "cell_type": "code",
   "execution_count": 52,
   "metadata": {
    "collapsed": false
   },
   "outputs": [],
   "source": [
    "input_dir = os.path.join(project_root, 'data', 'processed')\n",
    "input_filenames = [\n",
    "                    #single years, deaths all\n",
    "                    ['mcres_flows1996-1997_deathsall.pkl',\n",
    "                        'res_flows1996-1997_deathsall.pkl'],\n",
    "                    ['mcres_flows1996-1997_deaths1996-2000.pkl',\n",
    "                        'res_flows1996-1997_deaths1996-2000.pkl']\n",
    "                ]"
   ]
  },
  {
   "cell_type": "code",
   "execution_count": 53,
   "metadata": {
    "collapsed": false
   },
   "outputs": [],
   "source": [
    "for filename_pair in input_filenames:\n",
    "    mc_filepath = os.path.join(input_dir, filename_pair[0])\n",
    "    actual_filepath = os.path.join(input_dir, filename_pair[1])\n",
    "    gen.CheckSameData(mc_filepath, actual_filepath)\n",
    "    mc = gen.GetPkl(mc_filepath)\n",
    "    mc_avg = dict()\n",
    "    for key in mc.keys():\n",
    "        avg = sum(mc[key])/float(len(mc[key]))\n",
    "        mc_avg[key] = avg\n",
    "    actual = gen.GetPkl(actual_filepath)"
   ]
  },
  {
   "cell_type": "code",
   "execution_count": null,
   "metadata": {
    "collapsed": false
   },
   "outputs": [],
   "source": []
  },
  {
   "cell_type": "code",
   "execution_count": 54,
   "metadata": {
    "collapsed": true
   },
   "outputs": [],
   "source": [
    "#ratios\n",
    "ratios = dict()\n",
    "for key in actual.keys():\n",
    "    ratio = actual[key]/float(mc_avg[key])\n",
    "    ratios[key] = ratio"
   ]
  },
  {
   "cell_type": "code",
   "execution_count": 55,
   "metadata": {
    "collapsed": false
   },
   "outputs": [
    {
     "data": {
      "text/plain": [
       "<Container object of 7 artists>"
      ]
     },
     "execution_count": 55,
     "metadata": {},
     "output_type": "execute_result"
    },
    {
     "data": {
      "image/png": "[encoded data removed]",
      "text/plain": [
       "<matplotlib.figure.Figure at 0x1074f7f50>"
      ]
     },
     "metadata": {},
     "output_type": "display_data"
    }
   ],
   "source": [
    "start = 1\n",
    "end = 8\n",
    "plt.bar(ratios.keys()[start:end], ratios.values()[start:end], width=0.25)\n",
    "#plt.plot(range(start, end), [1 for x in range(start, end)])"
   ]
  },
  {
   "cell_type": "code",
   "execution_count": null,
   "metadata": {
    "collapsed": false
   },
   "outputs": [],
   "source": []
  },
  {
   "cell_type": "code",
   "execution_count": null,
   "metadata": {
    "collapsed": true
   },
   "outputs": [],
   "source": []
  }
 ],
 "metadata": {
  "anaconda-cloud": {},
  "kernelspec": {
   "display_name": "Python [conda root]",
   "language": "python",
   "name": "conda-root-py"
  },
  "language_info": {
   "codemirror_mode": {
    "name": "ipython",
    "version": 2
   },
   "file_extension": ".py",
   "mimetype": "text/x-python",
   "name": "python",
   "nbconvert_exporter": "python",
   "pygments_lexer": "ipython2",
   "version": "2.7.12"
  }
 },
 "nbformat": 4,
 "nbformat_minor": 0
}
