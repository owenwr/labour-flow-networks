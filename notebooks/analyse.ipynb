{
 "cells": [
  {
   "cell_type": "code",
   "execution_count": 1,
   "metadata": {
    "collapsed": false
   },
   "outputs": [
    {
     "name": "stderr",
     "output_type": "stream",
     "text": [
      "//anaconda/lib/python2.7/site-packages/matplotlib/font_manager.py:273: UserWarning: Matplotlib is building the font cache using fc-list. This may take a moment.\n",
      "  warnings.warn('Matplotlib is building the font cache using fc-list. This may take a moment.')\n"
     ]
    }
   ],
   "source": [
    "import os\n",
    "project_root = os.pardir\n",
    "import sys\n",
    "src_dir = os.path.join(project_root, 'src')\n",
    "sys.path.append(src_dir)\n",
    "import numpy as np\n",
    "\n",
    "import general as gen\n",
    "import matplotlib.pyplot as plt\n",
    "from visualisation.visualise import *\n",
    "%matplotlib inline"
   ]
  },
  {
   "cell_type": "code",
   "execution_count": null,
   "metadata": {
    "collapsed": false
   },
   "outputs": [],
   "source": [
    "input_dir = os.path.join(project_root, 'data', 'processed')\n",
    "input_filenames = [\n",
    "                    #single years, deaths all\n",
    "                    ['mcres_flows1996-1997_deathsall.pkl',\n",
    "                        'res_flows1996-1997_deathsall.pkl'],\n",
    "                    ['mcres_flows1996-1997_deaths1996-2000.pkl',\n",
    "                        'res_flows1996-1997_deaths1996-2000.pkl']\n",
    "                ]"
   ]
  },
  {
   "cell_type": "code",
   "execution_count": null,
   "metadata": {
    "collapsed": false
   },
   "outputs": [],
   "source": [
    "#make filepaths\n",
    "input_filepaths = []\n",
    "for filename_pair in input_filenames:\n",
    "    mc_filepath = os.path.join(input_dir, filename_pair[0])\n",
    "    actual_filepath = os.path.join(input_dir, filename_pair[1])\n",
    "    filepath_pair = (mc_filepath, actual_filepath)\n",
    "    input_filepaths += [filepath_pair]"
   ]
  },
  {
   "cell_type": "code",
   "execution_count": null,
   "metadata": {
    "collapsed": false
   },
   "outputs": [],
   "source": [
    "def RatiosOverlay(\n",
    "                    data_list, ell_values,\n",
    "                    fig_dir=None, shift=False, cal_at=None\n",
    "                ):\n",
    "    '''\n",
    "        Plots of ratio against ell value. Overlay plots for different death years.\n",
    "\n",
    "    Specifically, overlay each set of data in the lists [mc_res] and\n",
    "    [actual_res] and rescale so that they are overlayed and the shape can be\n",
    "    compared. Rescaling is done by shifting a curve up the y-axis *after* logs\n",
    "    have been taken of the ratios.\n",
    "\n",
    "    Intended to determine whether the behaviour for high ell values looks the\n",
    "    same no matter how long we wait for deaths.\n",
    "\n",
    "    Args:\n",
    "        - data_list: list of tuples of filepaths in format\n",
    "        [(mc_res_1, actual_res_1), ..., (mc_res_n, actual_res_n)]. Filepaths\n",
    "        are for pickle files that contain the dictionaries with keys as ell\n",
    "        values such that:\n",
    "            - mc_res_i[ell] = [n_1, n_2, ..., n_i, ...] where n_i is the\n",
    "            number of pairs of dead nodes between which the shortest path is\n",
    "            ell in the ith Monte Carlo run,\n",
    "            - actual_res_i[ell]= 'number of pairs of dead nodes between which\n",
    "            the shortest path is ell in actual LFN'\n",
    "        - ell_values: list of ell values for which we want to generate box plots\n",
    "        - fig_dir: directory where figures are stored\n",
    "        - shift: bool saying whether we will calibrate\n",
    "        - cal_at: int saying which ell_value we will calibrate at\n",
    "    Returns:\n",
    "        - plot\n",
    "    '''\n",
    "    fig = plt.figure()\n",
    "    ax = fig.add_subplot(1, 1, 1) #first row, first column, one subplot\n",
    "    first_loop = True\n",
    "    for filepath_pair in data_list:\n",
    "        mc_filepath = filepath_pair[0]\n",
    "        actual_filepath = filepath_pair[1]\n",
    "        #check filepaths corresponds to same flow years and death years\n",
    "        gen.CheckSameData(mc_filepath, actual_filepath)\n",
    "        #load dicts from pickle files\n",
    "        mc_res = gen.GetPkl(mc_filepath)\n",
    "        actual_res = gen.GetPkl(actual_filepath)\n",
    "        #get ratios\n",
    "        ratios = GetRatios(mc_res, actual_res)\n",
    "        log_ratios = dict()\n",
    "        for key in ratios.keys():\n",
    "            log_ratios[key] = np.log(ratios[key])\n",
    "        #set shift calibrator (or if it already exists do shift)\n",
    "        if type(cal_at)==int: #check that we want calibration\n",
    "            if first_loop:\n",
    "                #get the ratio value against which we will cal the others\n",
    "                cal_value = log_ratios[cal_at]\n",
    "                cal_log_ratios = log_ratios\n",
    "            else:\n",
    "                #calibrate the ratios against the first data set\n",
    "                cal_difference = log_ratios[cal_at] - cal_value\n",
    "                cal_log_ratios = dict()\n",
    "                for key in log_ratios.keys():\n",
    "                    cal_log_ratios[key] = log_ratios[key] - cal_difference\n",
    "                assert np.isclose(\n",
    "                                    cal_log_ratios[cal_at],\n",
    "                                    cal_value,\n",
    "                                    rtol=1e-05, atol=1e-08\n",
    "                                    )\n",
    "            x = cal_log_ratios.keys()\n",
    "            y = cal_log_ratios.values()\n",
    "        else:\n",
    "            x = log_ratios.keys()\n",
    "            y = log_ratios.values()\n",
    "        #add line plot\n",
    "        start = min(ell_values)\n",
    "        end = max(ell_values)\n",
    "        info = mc_filepath\n",
    "        label = 'Flows: ' + gen.GetFlowYears(info) \\\n",
    "                + ',  Deaths: ' \\\n",
    "                + gen.GetDeathYears(info) \\\n",
    "                + ' ' \\\n",
    "                + gen.GetNrand(info)\n",
    "        ax.plot(\n",
    "                x[start:end],\n",
    "                y[start:end],\n",
    "                label=label\n",
    "                )\n",
    "        #add titles, axis labels, and formatting\n",
    "        plt.legend()\n",
    "        plt.title('Line chart showing ratios for different numbers of ' \\\n",
    "                  'death years. With calibration at ' + str(cal_at))\n",
    "        first_loop=False\n",
    "RatiosOverlay(\n",
    "                data_list=input_filepaths, ell_values=range(1, 8),\n",
    "                fig_dir=None, shift=True, cal_at=4\n",
    "                )"
   ]
  },
  {
   "cell_type": "code",
   "execution_count": 6,
   "metadata": {
    "collapsed": false
   },
   "outputs": [
    {
     "name": "stdout",
     "output_type": "stream",
     "text": [
      "hello\n"
     ]
    },
    {
     "ename": "NameError",
     "evalue": "name 'ouput_dir' is not defined",
     "output_type": "error",
     "traceback": [
      "\u001b[0;31m---------------------------------------------------------------------------\u001b[0m",
      "\u001b[0;31mNameError\u001b[0m                                 Traceback (most recent call last)",
      "\u001b[0;32m<ipython-input-6-1ac345fb4ca5>\u001b[0m in \u001b[0;36m<module>\u001b[0;34m()\u001b[0m\n\u001b[1;32m      2\u001b[0m \u001b[0moutput_dir\u001b[0m \u001b[0;34m=\u001b[0m \u001b[0;34m'hello'\u001b[0m\u001b[0;34m\u001b[0m\u001b[0m\n\u001b[1;32m      3\u001b[0m \u001b[0;32mprint\u001b[0m\u001b[0;34m(\u001b[0m\u001b[0moutput_dir\u001b[0m\u001b[0;34m)\u001b[0m\u001b[0;34m\u001b[0m\u001b[0m\n\u001b[0;32m----> 4\u001b[0;31m \u001b[0mos\u001b[0m\u001b[0;34m.\u001b[0m\u001b[0mpath\u001b[0m\u001b[0;34m.\u001b[0m\u001b[0mjoin\u001b[0m\u001b[0;34m(\u001b[0m\u001b[0mouput_dir\u001b[0m\u001b[0;34m,\u001b[0m \u001b[0;34m'x'\u001b[0m\u001b[0;34m)\u001b[0m\u001b[0;34m\u001b[0m\u001b[0m\n\u001b[0m",
      "\u001b[0;31mNameError\u001b[0m: name 'ouput_dir' is not defined"
     ]
    }
   ],
   "source": [
    "#if use 'output_dir_test' get error, if use another variable name then no error\n",
    "output_dir = 'hello'\n",
    "print(output_dir)\n",
    "os.path.join(ouput_dir, 'x')"
   ]
  },
  {
   "cell_type": "code",
   "execution_count": null,
   "metadata": {
    "collapsed": false
   },
   "outputs": [],
   "source": []
  },
  {
   "cell_type": "code",
   "execution_count": null,
   "metadata": {
    "collapsed": false
   },
   "outputs": [],
   "source": []
  },
  {
   "cell_type": "code",
   "execution_count": null,
   "metadata": {
    "collapsed": true
   },
   "outputs": [],
   "source": []
  }
 ],
 "metadata": {
  "anaconda-cloud": {},
  "kernelspec": {
   "display_name": "Python [Root]",
   "language": "python",
   "name": "Python [Root]"
  },
  "language_info": {
   "codemirror_mode": {
    "name": "ipython",
    "version": 2
   },
   "file_extension": ".py",
   "mimetype": "text/x-python",
   "name": "python",
   "nbconvert_exporter": "python",
   "pygments_lexer": "ipython2",
   "version": "2.7.12"
  }
 },
 "nbformat": 4,
 "nbformat_minor": 0
}
