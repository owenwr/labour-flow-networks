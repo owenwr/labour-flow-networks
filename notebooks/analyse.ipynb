{
 "cells": [
  {
   "cell_type": "code",
   "execution_count": 3,
   "metadata": {
    "collapsed": false
   },
   "outputs": [
    {
     "name": "stderr",
     "output_type": "stream",
     "text": [
      "//anaconda/lib/python2.7/site-packages/matplotlib/font_manager.py:273: UserWarning: Matplotlib is building the font cache using fc-list. This may take a moment.\n",
      "  warnings.warn('Matplotlib is building the font cache using fc-list. This may take a moment.')\n"
     ]
    }
   ],
   "source": [
    "import os\n",
    "project_root = '/Users/Owen/Dropbox/Mason/Mason_LFN/labour-flow-networks'\n",
    "#project_root = '/Users/student/Dropbox/Mason/Mason_LFN/labour-flow-networks'\n",
    "os.chdir(project_root)\n",
    "import src.general as gen\n",
    "import matplotlib.pyplot as plt\n",
    "%matplotlib inline"
   ]
  },
  {
   "cell_type": "code",
   "execution_count": 4,
   "metadata": {
    "collapsed": false
   },
   "outputs": [],
   "source": [
    "input_dir = os.path.join(project_root, 'data', 'processed')\n",
    "input_filenames = [\n",
    "                    #single years, deaths all\n",
    "                    ['mcres_flows1996-1997_deathsall.pkl',\n",
    "                        'res_flows1996-1997_deathsall.pkl'],\n",
    "                    ['mcres_flows1996-1997_deaths1996-2000.pkl',\n",
    "                        'res_flows1996-1997_deaths1996-2000.pkl']\n",
    "                ]"
   ]
  },
  {
   "cell_type": "code",
   "execution_count": 5,
   "metadata": {
    "collapsed": false
   },
   "outputs": [],
   "source": [
    "for filename_pair in input_filenames:\n",
    "    mc_filepath = os.path.join(input_dir, filename_pair[0])\n",
    "    actual_filepath = os.path.join(input_dir, filename_pair[1])\n",
    "    gen.CheckSameData(mc_filepath, actual_filepath)\n",
    "    mc = gen.GetPkl(mc_filepath)\n",
    "    mc_avg = dict()\n",
    "    for key in mc.keys():\n",
    "        avg = sum(mc[key])/float(len(mc[key]))\n",
    "        mc_avg[key] = avg\n",
    "    actual = gen.GetPkl(actual_filepath)"
   ]
  },
  {
   "cell_type": "code",
   "execution_count": null,
   "metadata": {
    "collapsed": false
   },
   "outputs": [],
   "source": []
  },
  {
   "cell_type": "code",
   "execution_count": 6,
   "metadata": {
    "collapsed": true
   },
   "outputs": [],
   "source": [
    "#ratios\n",
    "ratios = dict()\n",
    "for key in actual.keys():\n",
    "    ratio = actual[key]/float(mc_avg[key])\n",
    "    ratios[key] = ratio"
   ]
  },
  {
   "cell_type": "code",
   "execution_count": 7,
   "metadata": {
    "collapsed": false
   },
   "outputs": [
    {
     "data": {
      "text/plain": [
       "<Container object of 5 artists>"
      ]
     },
     "execution_count": 7,
     "metadata": {},
     "output_type": "execute_result"
    },
    {
     "data": {
      "image/png": "[encoded data removed]",
      "text/plain": [
       "<matplotlib.figure.Figure at 0x107fb5dd0>"
      ]
     },
     "metadata": {},
     "output_type": "display_data"
    }
   ],
   "source": [
    "start = 3\n",
    "end = 8\n",
    "plt.bar(ratios.keys()[start:end], ratios.values()[start:end], width=0.25)\n",
    "#plt.plot(range(start, end), [1 for x in range(start, end)])"
   ]
  },
  {
   "cell_type": "code",
   "execution_count": null,
   "metadata": {
    "collapsed": false
   },
   "outputs": [],
   "source": []
  },
  {
   "cell_type": "code",
   "execution_count": null,
   "metadata": {
    "collapsed": true
   },
   "outputs": [],
   "source": []
  }
 ],
 "metadata": {
  "anaconda-cloud": {},
  "kernelspec": {
   "display_name": "Python [Root]",
   "language": "python",
   "name": "Python [Root]"
  },
  "language_info": {
   "codemirror_mode": {
    "name": "ipython",
    "version": 2
   },
   "file_extension": ".py",
   "mimetype": "text/x-python",
   "name": "python",
   "nbconvert_exporter": "python",
   "pygments_lexer": "ipython2",
   "version": "2.7.12"
  }
 },
 "nbformat": 4,
 "nbformat_minor": 0
}
