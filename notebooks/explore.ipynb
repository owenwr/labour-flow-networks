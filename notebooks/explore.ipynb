{
 "cells": [
  {
   "cell_type": "code",
   "execution_count": 1,
   "metadata": {
    "collapsed": false
   },
   "outputs": [],
   "source": [
    "import os\n",
    "project_root = os.pardir\n",
    "import sys\n",
    "sys.path.append(project_root)"
   ]
  },
  {
   "cell_type": "code",
   "execution_count": 29,
   "metadata": {
    "collapsed": false
   },
   "outputs": [],
   "source": [
    "import src.general as gen\n",
    "from src.data import make_dataset as dat\n",
    "import matplotlib\n",
    "import matplotlib.pyplot as plt\n",
    "matplotlib.style.use('ggplot')\n",
    "import pandas as pd\n",
    "import networkx as nx\n",
    "import collections as col\n",
    "import numpy as np\n",
    "from src.what_affects_death import *\n",
    "import tqdm\n",
    "%matplotlib inline"
   ]
  },
  {
   "cell_type": "code",
   "execution_count": 3,
   "metadata": {
    "collapsed": true
   },
   "outputs": [],
   "source": [
    "data_dir = os.path.join(project_root, 'data', 'raw', '16-12-2016-Mega')"
   ]
  },
  {
   "cell_type": "code",
   "execution_count": 4,
   "metadata": {
    "collapsed": true
   },
   "outputs": [],
   "source": [
    "year = 1997\n",
    "profits_filename = 'profits_' + str(year) + '.csv'\n",
    "sizes_filename = 'sizes_' + str(year) + '.csv'\n",
    "profits_filepath = os.path.join(data_dir, 'profits', profits_filename)\n",
    "sizes_filepath = os.path.join(data_dir, 'sizes', sizes_filename)"
   ]
  },
  {
   "cell_type": "code",
   "execution_count": 5,
   "metadata": {
    "collapsed": false
   },
   "outputs": [],
   "source": [
    "p = pd.read_csv(profits_filepath, index_col='firm_id')\n",
    "s = pd.read_csv(sizes_filepath, index_col='firm_id')\n",
    "df = p.merge(s, left_index=True, right_index=True, suffixes=('_profit', '_size'))"
   ]
  },
  {
   "cell_type": "code",
   "execution_count": 6,
   "metadata": {
    "collapsed": false
   },
   "outputs": [],
   "source": [
    "a = df[df['value_size'] <10]"
   ]
  },
  {
   "cell_type": "code",
   "execution_count": null,
   "metadata": {
    "collapsed": false
   },
   "outputs": [],
   "source": []
  },
  {
   "cell_type": "code",
   "execution_count": null,
   "metadata": {
    "collapsed": false
   },
   "outputs": [],
   "source": []
  },
  {
   "cell_type": "code",
   "execution_count": 8,
   "metadata": {
    "collapsed": false
   },
   "outputs": [],
   "source": [
    "#look at number (and associated probability) of firms dying after t years by\n",
    "#(i) degree, (ii) sum of degrees of neighbours, (iii) average degree of neighbours\n",
    "t = 10\n",
    "year1 = 1996\n",
    "year2 = year1 + t"
   ]
  },
  {
   "cell_type": "code",
   "execution_count": 9,
   "metadata": {
    "collapsed": false
   },
   "outputs": [
    {
     "name": "stdout",
     "output_type": "stream",
     "text": [
      "Name: LFN with flows: 1996-1997.\n",
      "Type: Graph\n",
      "Number of nodes: 31661\n",
      "Number of edges: 37233\n",
      "Average degree:   2.3520\n"
     ]
    }
   ],
   "source": [
    "graph = dat.MakeLFN('1996-1997')"
   ]
  },
  {
   "cell_type": "code",
   "execution_count": 10,
   "metadata": {
    "collapsed": false
   },
   "outputs": [],
   "source": [
    "#get dead IDs\n",
    "death_years = dat.StrFromYrs(year1, year2)\n",
    "deaths_filepath = os.path.join(project_root, dat.deaths_filepath)\n",
    "dead_ids = dat.GetDeadIds(input_filepath=deaths_filepath, death_years=death_years)\n",
    "dead_in_LFN = set(dead_ids).intersection(set(graph.nodes()))"
   ]
  },
  {
   "cell_type": "code",
   "execution_count": 11,
   "metadata": {
    "collapsed": false
   },
   "outputs": [],
   "source": [
    "#get degrees of dead ids\n",
    "dead_degrees = [graph.degree(node) for node in dead_in_LFN]\n",
    "\n",
    "#get number of each dead degree\n",
    "dead_degree_count = pd.Series(col.Counter(dead_degrees), name ='Dead Degree Counts')\n",
    "LFN_degree_count = pd.Series(col.Counter(graph.degree().values()), name = 'LFN Degree Counts')\n",
    "df = pd.concat([dead_degree_count, LFN_degree_count], axis=1).fillna(0).astype(int)\n",
    "\n",
    "#get probability of dying given degree\n",
    "df['Proportion Dead'] = df['Dead Degree Counts']/df['LFN Degree Counts']"
   ]
  },
  {
   "cell_type": "code",
   "execution_count": null,
   "metadata": {
    "collapsed": false
   },
   "outputs": [],
   "source": []
  },
  {
   "cell_type": "code",
   "execution_count": null,
   "metadata": {
    "collapsed": false,
    "scrolled": true
   },
   "outputs": [],
   "source": []
  },
  {
   "cell_type": "code",
   "execution_count": 12,
   "metadata": {
    "collapsed": false,
    "scrolled": false
   },
   "outputs": [],
   "source": [
    "#get sums of degrees of neighbours of dead firms\n",
    "dead_sum_of_neighs = []\n",
    "for node in dead_in_LFN:\n",
    "    neighs = nx.neighbors(graph, node)\n",
    "    dead_sum_of_neighs += [sum(graph.degree(neighs).values())]\n",
    "    \n",
    "dead_sum_count = col.Counter(dead_sum_of_neighs)\n",
    "\n",
    "sum_of_neighs = []\n",
    "#get sums of degrees of neighbours of all nodes\n",
    "for node in graph.nodes():\n",
    "    neighs = nx.neighbors(graph, node)\n",
    "    sum_of_neighs += [sum(graph.degree(neighs).values())]\n",
    "    \n",
    "sum_count = col.Counter(sum_of_neighs)\n",
    "\n",
    "#get proportion of dead for each sum of neighbour degrees\n",
    "prop_sum_dict = dict()\n",
    "for s in sum_count.keys():\n",
    "    prop_sum_dict[s] = dead_sum_count[s]/float(sum_count[s])\n",
    "    \n"
   ]
  },
  {
   "cell_type": "code",
   "execution_count": 30,
   "metadata": {
    "collapsed": false
   },
   "outputs": [
    {
     "name": "stderr",
     "output_type": "stream",
     "text": [
      "100%|██████████| 1000/1000 [00:30<00:00, 31.12it/s]\n"
     ]
    }
   ],
   "source": [
    "all_degrees = graph.degree().values()\n",
    "all_nsum_counted = sum_count\n",
    "number_mc_runs = 1000\n",
    "number_dead_in_LFN = len(dead_in_LFN)\n",
    "\n",
    "results = dict()\n",
    "for key in all_nsum_counted.keys():\n",
    "    results[key]=[]\n",
    "for i in tqdm.tqdm(range(number_mc_runs)):\n",
    "    dead_nsum_mc = SelectNWithoutReplacement(all_degrees, number_dead_in_LFN)\n",
    "    dead_nsum_counted_mc = col.Counter(dead_nsum_mc)\n",
    "    for key in results.keys():\n",
    "        results[key] += [dead_nsum_counted_mc[key]]"
   ]
  },
  {
   "cell_type": "code",
   "execution_count": 51,
   "metadata": {
    "collapsed": false
   },
   "outputs": [],
   "source": [
    "avgs = dict()\n",
    "n = float(len(results[1]))\n",
    "for key in results.keys():\n",
    "    avgs[key] = sum(results[key])/n"
   ]
  },
  {
   "cell_type": "code",
   "execution_count": 40,
   "metadata": {
    "collapsed": false
   },
   "outputs": [
    {
     "data": {
      "image/png": "[encoded data removed]",
      "text/plain": [
       "<matplotlib.figure.Figure at 0x1183c66d0>"
      ]
     },
     "metadata": {},
     "output_type": "display_data"
    }
   ],
   "source": [
    "n, bins, info = plt.hist(results[1])\n",
    "#plt.plot([dead_sum_count[1], dead_sum_count[1]], [0, max(n)], lw=100)"
   ]
  },
  {
   "cell_type": "code",
   "execution_count": 57,
   "metadata": {
    "collapsed": false
   },
   "outputs": [
    {
     "data": {
      "text/plain": [
       "<matplotlib.legend.Legend at 0x11d74fe10>"
      ]
     },
     "execution_count": 57,
     "metadata": {},
     "output_type": "execute_result"
    },
    {
     "data": {
      "image/png": "[encoded data removed]",
      "text/plain": [
       "<matplotlib.figure.Figure at 0x11cd717d0>"
      ]
     },
     "metadata": {},
     "output_type": "display_data"
    }
   ],
   "source": [
    "l = 150\n",
    "plt.plot(dead_sum_count.keys()[:l], dead_sum_count.values()[:l], label='Dead')\n",
    "plt.plot(avgs.keys()[:l], avgs.values()[:l], label='MC')\n",
    "plt.yscale('log')\n",
    "plt.legend()"
   ]
  },
  {
   "cell_type": "code",
   "execution_count": 60,
   "metadata": {
    "collapsed": false
   },
   "outputs": [
    {
     "data": {
      "text/plain": [
       "[5912.569,\n",
       " 1260.275,\n",
       " 445.559,\n",
       " 219.797,\n",
       " 144.375,\n",
       " 88.661,\n",
       " 70.025,\n",
       " 50.518,\n",
       " 38.021,\n",
       " 28.159]"
      ]
     },
     "execution_count": 60,
     "metadata": {},
     "output_type": "execute_result"
    }
   ],
   "source": [
    "avgs.values()[:10]"
   ]
  },
  {
   "cell_type": "code",
   "execution_count": 61,
   "metadata": {
    "collapsed": false
   },
   "outputs": [
    {
     "data": {
      "text/plain": [
       "[2503, 1069, 541, 374, 278, 192, 188, 149, 116, 102]"
      ]
     },
     "execution_count": 61,
     "metadata": {},
     "output_type": "execute_result"
    }
   ],
   "source": [
    "dead_sum_count.values()[:10]"
   ]
  },
  {
   "cell_type": "code",
   "execution_count": null,
   "metadata": {
    "collapsed": true
   },
   "outputs": [],
   "source": []
  }
 ],
 "metadata": {
  "anaconda-cloud": {},
  "kernelspec": {
   "display_name": "Python [Root]",
   "language": "python",
   "name": "Python [Root]"
  },
  "language_info": {
   "codemirror_mode": {
    "name": "ipython",
    "version": 2
   },
   "file_extension": ".py",
   "mimetype": "text/x-python",
   "name": "python",
   "nbconvert_exporter": "python",
   "pygments_lexer": "ipython2",
   "version": "2.7.12"
  }
 },
 "nbformat": 4,
 "nbformat_minor": 0
}
