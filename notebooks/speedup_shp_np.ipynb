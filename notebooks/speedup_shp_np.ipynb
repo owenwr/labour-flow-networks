{
 "cells": [
  {
   "cell_type": "code",
   "execution_count": 32,
   "metadata": {
    "collapsed": false
   },
   "outputs": [],
   "source": [
    "import numpy as np\n",
    "import random as rand\n",
    "import itertools"
   ]
  },
  {
   "cell_type": "code",
   "execution_count": 33,
   "metadata": {
    "collapsed": false
   },
   "outputs": [
    {
     "name": "stdout",
     "output_type": "stream",
     "text": [
      "[[ 6 13 17  9]\n",
      " [13  5 18  9]\n",
      " [17 18  3  9]\n",
      " [ 9  9  9  0]]\n",
      "[0, 2, 1]\n"
     ]
    }
   ],
   "source": [
    "#set dimension\n",
    "dim = 4\n",
    "#generate random symmetric matrix\n",
    "shp = np.random.randint(0, 20, size=(dim, dim), dtype='int')\n",
    "shp = (shp + np.transpose(shp))/2\n",
    "print(shp)\n",
    "#get some dead rows\n",
    "n = 3\n",
    "all_rows = range(len(shp))\n",
    "rand.shuffle(all_rows)\n",
    "dead_rows = all_rows[:n]\n",
    "print(dead_rows)\n",
    "#get pairs of dead rows\n",
    "dead_pairs = itertools.combinations(dead_rows, 2)"
   ]
  },
  {
   "cell_type": "code",
   "execution_count": 35,
   "metadata": {
    "collapsed": false
   },
   "outputs": [
    {
     "data": {
      "text/plain": [
       "array([ True,  True,  True], dtype=bool)"
      ]
     },
     "execution_count": 35,
     "metadata": {},
     "output_type": "execute_result"
    }
   ],
   "source": [
    "np.fromiter(dead_pairs, dtype=bool)"
   ]
  },
  {
   "cell_type": "code",
   "execution_count": 26,
   "metadata": {
    "collapsed": false
   },
   "outputs": [
    {
     "data": {
      "text/plain": [
       "array([ True, False,  True], dtype=bool)"
      ]
     },
     "execution_count": 26,
     "metadata": {},
     "output_type": "execute_result"
    }
   ],
   "source": [
    "np.fromiter(dead_rows, bool)"
   ]
  },
  {
   "cell_type": "code",
   "execution_count": null,
   "metadata": {
    "collapsed": true
   },
   "outputs": [],
   "source": []
  }
 ],
 "metadata": {
  "kernelspec": {
   "display_name": "Python [Root]",
   "language": "python",
   "name": "Python [Root]"
  },
  "language_info": {
   "codemirror_mode": {
    "name": "ipython",
    "version": 2
   },
   "file_extension": ".py",
   "mimetype": "text/x-python",
   "name": "python",
   "nbconvert_exporter": "python",
   "pygments_lexer": "ipython2",
   "version": "2.7.12"
  }
 },
 "nbformat": 4,
 "nbformat_minor": 0
}
