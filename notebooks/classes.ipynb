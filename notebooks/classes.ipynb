{
 "cells": [
  {
   "cell_type": "code",
   "execution_count": 1,
   "metadata": {
    "collapsed": false
   },
   "outputs": [
    {
     "name": "stderr",
     "output_type": "stream",
     "text": [
      "//anaconda/lib/python2.7/site-packages/matplotlib/font_manager.py:273: UserWarning: Matplotlib is building the font cache using fc-list. This may take a moment.\n",
      "  warnings.warn('Matplotlib is building the font cache using fc-list. This may take a moment.')\n"
     ]
    }
   ],
   "source": [
    "import os\n",
    "project_root = os.pardir\n",
    "import sys\n",
    "src_dir = os.path.join(project_root, 'src')\n",
    "sys.path.append(src_dir)\n",
    "\n",
    "import updated_deg_flows as udf\n",
    "from data import make_dataset_classes as dat\n",
    "import matplotlib.pyplot as plt\n",
    "import numpy as np\n",
    "%matplotlib inline"
   ]
  },
  {
   "cell_type": "code",
   "execution_count": 2,
   "metadata": {
    "collapsed": false
   },
   "outputs": [
    {
     "name": "stdout",
     "output_type": "stream",
     "text": [
      "Warning: Currently Must Use year=1997 or 1998\n"
     ]
    }
   ],
   "source": [
    "lfn = dat.LFN('1996-1997', show_info=False)\n",
    "A, B = udf.UpdatedDegreeFlowMatrix(lfn, year=1997)"
   ]
  },
  {
   "cell_type": "code",
   "execution_count": 53,
   "metadata": {
    "collapsed": false
   },
   "outputs": [
    {
     "name": "stdout",
     "output_type": "stream",
     "text": [
      "1.6487212707\n",
      "2.71828182846\n",
      "4.48168907034\n",
      "7.38905609893\n",
      "12.1824939607\n",
      "20.0855369232\n",
      "33.1154519587\n",
      "54.5981500331\n",
      "90.0171313005\n",
      "148.413159103\n",
      "244.691932264\n",
      "403.428793493\n",
      "665.141633044\n"
     ]
    }
   ],
   "source": [
    "'''\n",
    "Take the matrix of flows and create a new matrix where the rows\n",
    "and columns now corresponds to logarithmically scalled bins.\n",
    "'''\n",
    "\n",
    "#create the bins\n",
    "#set the logarithmic bin width\n",
    "#nb, log bin width b defined such that log(x_i+1) = log(x_i) + b\n",
    "#so x_i+1 = x_i*e^b\n",
    "#and the width of bin (i, i+1) w = x_i*(e^b-1)\n",
    "#so the width of a bin is proportional to its lower limit\n",
    "b = 0.5\n",
    "#create container of bin edges and set first two edges to 0 and 1\n",
    "bin_edges = np.array([-0.01, 1])\n",
    "#add further bin edges until the upper limit is greater than the\n",
    "#largest value in the flow matrix\n",
    "upper_limit = A.shape[0]\n",
    "assert upper_limit > 1\n",
    "#set current bin edge to 1\n",
    "bin_edge = 1\n",
    "while bin_edge <= upper_limit:\n",
    "    bin_edge = bin_edge * np.exp(b)\n",
    "    bin_edges = np.append(bin_edges, bin_edge)\n",
    "    print(bin_edge)\n",
    "    if len(bin_edges) > 100:\n",
    "        print('Too many bins')\n",
    "        break"
   ]
  },
  {
   "cell_type": "code",
   "execution_count": 54,
   "metadata": {
    "collapsed": false
   },
   "outputs": [],
   "source": [
    "degs = [lfn.UpdatedDegree(node) for node in lfn.graph.nodes()]"
   ]
  },
  {
   "cell_type": "code",
   "execution_count": 58,
   "metadata": {
    "collapsed": false
   },
   "outputs": [
    {
     "data": {
      "image/png": "[encoded data removed]",
      "text/plain": [
       "<matplotlib.figure.Figure at 0x1251547d0>"
      ]
     },
     "metadata": {},
     "output_type": "display_data"
    }
   ],
   "source": [
    "freq, bins = np.histogram(degs, bin_edges)\n",
    "for i in range(len(freq)):\n",
    "    freq[i] = freq[i]/float(bins[i+1])\n",
    "s = 0\n",
    "for i in range(len(bins)-1):\n",
    "    x = bins[i+1] - bins[i]\n",
    "    y = x*freq[i]\n",
    "    s += y\n",
    "freq = freq/float(s)\n",
    "plt.bar(bins[:-1], freq, label='Log Bins', alpha=0.5, color='green')\n",
    "plt.hist(degs, bins=100, label='Linear Bins', alpha=0.3, color='blue', normed=True)\n",
    "plt.yscale('log')\n",
    "plt.xscale('log')\n",
    "plt.legend()\n",
    "plt.title('Histogram of updated degrees of LFN. \\n Log Bins Divided By Upper Bin Limit.')\n",
    "plt.savefig(os.path.join(project_root, 'reports', 'figures', 'Histogram of updated degrees of LFN_logscale_bins_normalised.png'))"
   ]
  },
  {
   "cell_type": "code",
   "execution_count": 52,
   "metadata": {
    "collapsed": false
   },
   "outputs": [
    {
     "data": {
      "text/plain": [
       "array([-0.01, -0.01, -0.01, -0.01, -0.01, -0.01, -0.01, -0.01, -0.01,\n",
       "       -0.01, -0.01, -0.01, -0.01, -0.01, -0.01])"
      ]
     },
     "execution_count": 52,
     "metadata": {},
     "output_type": "execute_result"
    }
   ],
   "source": [
    "bin_edges"
   ]
  },
  {
   "cell_type": "code",
   "execution_count": null,
   "metadata": {
    "collapsed": true
   },
   "outputs": [],
   "source": []
  },
  {
   "cell_type": "code",
   "execution_count": 15,
   "metadata": {
    "collapsed": false
   },
   "outputs": [
    {
     "data": {
      "image/png": "[encoded data removed]",
      "text/plain": [
       "<matplotlib.figure.Figure at 0x11cf1ea50>"
      ]
     },
     "metadata": {},
     "output_type": "display_data"
    }
   ],
   "source": [
    "lh = plt.hist(degs, bins=bin_edges, label='Log Bins', alpha=0.5)\n",
    "plt.hist(degs, bins=100, label='Linear Bins', alpha=0.5)\n",
    "plt.yscale('log')\n",
    "plt.xscale('log')\n",
    "plt.title('Histogram of updated degrees of LFN.')\n",
    "plt.legend()\n",
    "plt.savefig(os.path.join(project_root, 'reports', 'figures', 'Histogram of updated degrees of LFN_logscale_bins'))"
   ]
  }
 ],
 "metadata": {
  "anaconda-cloud": {},
  "kernelspec": {
   "display_name": "Python [Root]",
   "language": "python",
   "name": "Python [Root]"
  },
  "language_info": {
   "codemirror_mode": {
    "name": "ipython",
    "version": 2
   },
   "file_extension": ".py",
   "mimetype": "text/x-python",
   "name": "python",
   "nbconvert_exporter": "python",
   "pygments_lexer": "ipython2",
   "version": "2.7.12"
  }
 },
 "nbformat": 4,
 "nbformat_minor": 0
}
