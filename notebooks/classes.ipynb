{
 "cells": [
  {
   "cell_type": "code",
   "execution_count": 1,
   "metadata": {
    "collapsed": false
   },
   "outputs": [
    {
     "name": "stderr",
     "output_type": "stream",
     "text": [
      "//anaconda/lib/python2.7/site-packages/matplotlib/font_manager.py:273: UserWarning: Matplotlib is building the font cache using fc-list. This may take a moment.\n",
      "  warnings.warn('Matplotlib is building the font cache using fc-list. This may take a moment.')\n"
     ]
    }
   ],
   "source": [
    "import os\n",
    "project_root = os.pardir\n",
    "import sys\n",
    "src_dir = os.path.join(project_root, 'src')\n",
    "sys.path.append(src_dir)\n",
    "\n",
    "import updated_deg_flows as udf\n",
    "from data import make_dataset_classes as dat\n",
    "import matplotlib.pyplot as plt\n",
    "import numpy as np"
   ]
  },
  {
   "cell_type": "code",
   "execution_count": 2,
   "metadata": {
    "collapsed": false
   },
   "outputs": [
    {
     "name": "stdout",
     "output_type": "stream",
     "text": [
      "Warning: Currently Must Use year=1997 or 1998\n"
     ]
    }
   ],
   "source": [
    "lfn = dat.LFN('1996-1997', show_info=False)\n",
    "A, B = udf.UpdatedDegreeFlowMatrix(lfn, year=1997)"
   ]
  },
  {
   "cell_type": "code",
   "execution_count": 3,
   "metadata": {
    "collapsed": false
   },
   "outputs": [
    {
     "name": "stdout",
     "output_type": "stream",
     "text": [
      "1.6487212707\n",
      "2.71828182846\n",
      "4.48168907034\n",
      "7.38905609893\n",
      "12.1824939607\n",
      "20.0855369232\n",
      "33.1154519587\n",
      "54.5981500331\n",
      "90.0171313005\n",
      "148.413159103\n",
      "244.691932264\n",
      "403.428793493\n",
      "665.141633044\n"
     ]
    }
   ],
   "source": [
    "'''\n",
    "Take the matrix of flows and create a new matrix where the rows\n",
    "and columns now corresponds to logarithmically scalled bins.\n",
    "'''\n",
    "\n",
    "#create the bins\n",
    "#set the logarithmic bin width\n",
    "#nb, log bin width b defined such that log(x_i+1) = log(x_i) + b\n",
    "#so x_i+1 = x_i*e^b\n",
    "#and the width of bin (i, i+1) w = x_i*(e^b-1)\n",
    "#so the width of a bin is proportional to its lower limit\n",
    "b = 0.5\n",
    "#create container of bin edges and set first two edges to 0 and 1\n",
    "bin_edges = np.array([-0.1, 1])\n",
    "#add further bin edges until the upper limit is greater than the\n",
    "#largest value in the flow matrix\n",
    "upper_limit = A.shape[0]\n",
    "assert upper_limit > 1\n",
    "#set current bin edge to 1\n",
    "bin_edge = 1\n",
    "while bin_edge <= upper_limit:\n",
    "    bin_edge = bin_edge * np.exp(b)\n",
    "    bin_edges = np.append(bin_edges, bin_edge)\n",
    "    print(bin_edge)\n",
    "    if len(bin_edges) > 100:\n",
    "        print('Too many bins')\n",
    "        break"
   ]
  },
  {
   "cell_type": "code",
   "execution_count": 4,
   "metadata": {
    "collapsed": false
   },
   "outputs": [
    {
     "data": {
      "text/plain": [
       "array([ -1.00000000e-01,   1.00000000e+00,   1.64872127e+00,\n",
       "         2.71828183e+00,   4.48168907e+00,   7.38905610e+00,\n",
       "         1.21824940e+01,   2.00855369e+01,   3.31154520e+01,\n",
       "         5.45981500e+01,   9.00171313e+01,   1.48413159e+02,\n",
       "         2.44691932e+02,   4.03428793e+02,   6.65141633e+02])"
      ]
     },
     "execution_count": 4,
     "metadata": {},
     "output_type": "execute_result"
    }
   ],
   "source": [
    "bin_edges"
   ]
  },
  {
   "cell_type": "code",
   "execution_count": 5,
   "metadata": {
    "collapsed": false
   },
   "outputs": [],
   "source": [
    "degs = [lfn.UpdatedDegree(node) for node in lfn.graph.nodes()]"
   ]
  },
  {
   "cell_type": "code",
   "execution_count": 6,
   "metadata": {
    "collapsed": false
   },
   "outputs": [],
   "source": [
    "plt.hist(degs, bins=bin_edges)\n",
    "plt.yscale('log')\n",
    "plt.xscale('log')"
   ]
  },
  {
   "cell_type": "code",
   "execution_count": null,
   "metadata": {
    "collapsed": true
   },
   "outputs": [],
   "source": [
    "plt.show()"
   ]
  },
  {
   "cell_type": "code",
   "execution_count": null,
   "metadata": {
    "collapsed": true
   },
   "outputs": [],
   "source": []
  }
 ],
 "metadata": {
  "anaconda-cloud": {},
  "kernelspec": {
   "display_name": "Python [Root]",
   "language": "python",
   "name": "Python [Root]"
  },
  "language_info": {
   "codemirror_mode": {
    "name": "ipython",
    "version": 2
   },
   "file_extension": ".py",
   "mimetype": "text/x-python",
   "name": "python",
   "nbconvert_exporter": "python",
   "pygments_lexer": "ipython2",
   "version": "2.7.12"
  }
 },
 "nbformat": 4,
 "nbformat_minor": 0
}
